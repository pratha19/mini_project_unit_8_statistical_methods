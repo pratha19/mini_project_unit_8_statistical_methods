{
 "cells": [
  {
   "cell_type": "markdown",
   "metadata": {},
   "source": [
    "# Inferential statistics II - Bootstrapping"
   ]
  },
  {
   "cell_type": "markdown",
   "metadata": {},
   "source": [
    "## Introduction"
   ]
  },
  {
   "cell_type": "markdown",
   "metadata": {},
   "source": [
    "In the previous exercises you performed frequentist calculations to perform inference from a sample of data. Such inference relies on theory largely developed from the 19th Century onwards that is subject to certain assumptions or theoretical limits. These are fine if those assumptions hold in your case, and what you want to do has a known theoretical distribution, for example the mean of a sampling distribution that we looked at."
   ]
  },
  {
   "cell_type": "markdown",
   "metadata": {},
   "source": [
    "In these exercises we are once again going to load in the medical charge data but this time we are going to make inferences about the population using bootstrapping, that is simulating repeated re-runs of an experiment. If frequentism is about using assumptions and theoretical results to calculate what we expect to happen were an experiment to be run again and again and again, then bootstrapping is about using computing power to essentially re-run the sample draw again and again and again to see what actually happens."
   ]
  },
  {
   "cell_type": "markdown",
   "metadata": {},
   "source": [
    "## Prerequisites"
   ]
  },
  {
   "cell_type": "markdown",
   "metadata": {},
   "source": [
    "Whilst these exercises do not strictly depend on these concepts, before working through them, you should have completed the preceding assignment and have a good understanding of such frequentist concepts as\n",
    "* the _z_-statistic\n",
    "* the _t_-statistic\n",
    "* the difference and relationship between the two\n",
    "* the Central Limit Theorem, its assumptions and consequences\n",
    "* how to estimate the population mean and standard deviation from a sample\n",
    "* the concept of a sampling distribution of a test statistic, particularly for the mean\n",
    "* how to combine these concepts to calculate confidence intervals and p-values\n",
    "* how those confidence intervals and p-values allow you to perform hypothesis (or A/B) tests"
   ]
  },
  {
   "cell_type": "markdown",
   "metadata": {},
   "source": [
    "To complete these exercises, you should have covered the material on how to calculate bootstrap replicates of summary statistics. Having an appreciation of what confidence intervals and p-values are will be helpful."
   ]
  },
  {
   "cell_type": "code",
   "execution_count": 1,
   "metadata": {},
   "outputs": [],
   "source": [
    "import pandas as pd\n",
    "import numpy as np\n",
    "from numpy.random import seed\n",
    "import matplotlib.pyplot as plt"
   ]
  },
  {
   "cell_type": "markdown",
   "metadata": {},
   "source": [
    "## Medical charge data set"
   ]
  },
  {
   "cell_type": "code",
   "execution_count": 2,
   "metadata": {},
   "outputs": [],
   "source": [
    "med_charges = pd.read_csv('data/insurance2.csv')"
   ]
  },
  {
   "cell_type": "code",
   "execution_count": 3,
   "metadata": {},
   "outputs": [
    {
     "data": {
      "text/html": [
       "<div>\n",
       "<style scoped>\n",
       "    .dataframe tbody tr th:only-of-type {\n",
       "        vertical-align: middle;\n",
       "    }\n",
       "\n",
       "    .dataframe tbody tr th {\n",
       "        vertical-align: top;\n",
       "    }\n",
       "\n",
       "    .dataframe thead th {\n",
       "        text-align: right;\n",
       "    }\n",
       "</style>\n",
       "<table border=\"1\" class=\"dataframe\">\n",
       "  <thead>\n",
       "    <tr style=\"text-align: right;\">\n",
       "      <th></th>\n",
       "      <th>age</th>\n",
       "      <th>sex</th>\n",
       "      <th>bmi</th>\n",
       "      <th>children</th>\n",
       "      <th>smoker</th>\n",
       "      <th>region</th>\n",
       "      <th>charges</th>\n",
       "      <th>insuranceclaim</th>\n",
       "    </tr>\n",
       "  </thead>\n",
       "  <tbody>\n",
       "    <tr>\n",
       "      <th>0</th>\n",
       "      <td>19</td>\n",
       "      <td>0</td>\n",
       "      <td>27.900</td>\n",
       "      <td>0</td>\n",
       "      <td>1</td>\n",
       "      <td>3</td>\n",
       "      <td>16884.92400</td>\n",
       "      <td>1</td>\n",
       "    </tr>\n",
       "    <tr>\n",
       "      <th>1</th>\n",
       "      <td>18</td>\n",
       "      <td>1</td>\n",
       "      <td>33.770</td>\n",
       "      <td>1</td>\n",
       "      <td>0</td>\n",
       "      <td>2</td>\n",
       "      <td>1725.55230</td>\n",
       "      <td>1</td>\n",
       "    </tr>\n",
       "    <tr>\n",
       "      <th>2</th>\n",
       "      <td>28</td>\n",
       "      <td>1</td>\n",
       "      <td>33.000</td>\n",
       "      <td>3</td>\n",
       "      <td>0</td>\n",
       "      <td>2</td>\n",
       "      <td>4449.46200</td>\n",
       "      <td>0</td>\n",
       "    </tr>\n",
       "    <tr>\n",
       "      <th>3</th>\n",
       "      <td>33</td>\n",
       "      <td>1</td>\n",
       "      <td>22.705</td>\n",
       "      <td>0</td>\n",
       "      <td>0</td>\n",
       "      <td>1</td>\n",
       "      <td>21984.47061</td>\n",
       "      <td>0</td>\n",
       "    </tr>\n",
       "    <tr>\n",
       "      <th>4</th>\n",
       "      <td>32</td>\n",
       "      <td>1</td>\n",
       "      <td>28.880</td>\n",
       "      <td>0</td>\n",
       "      <td>0</td>\n",
       "      <td>1</td>\n",
       "      <td>3866.85520</td>\n",
       "      <td>1</td>\n",
       "    </tr>\n",
       "  </tbody>\n",
       "</table>\n",
       "</div>"
      ],
      "text/plain": [
       "   age  sex     bmi  children  smoker  region      charges  insuranceclaim\n",
       "0   19    0  27.900         0       1       3  16884.92400               1\n",
       "1   18    1  33.770         1       0       2   1725.55230               1\n",
       "2   28    1  33.000         3       0       2   4449.46200               0\n",
       "3   33    1  22.705         0       0       1  21984.47061               0\n",
       "4   32    1  28.880         0       0       1   3866.85520               1"
      ]
     },
     "execution_count": 3,
     "metadata": {},
     "output_type": "execute_result"
    }
   ],
   "source": [
    "med_charges.head()"
   ]
  },
  {
   "cell_type": "markdown",
   "metadata": {},
   "source": [
    "In the previous assignment, you used the frequentist approach to estimate the lower limit for the 95% confidence interval on the mean hospital charge. This approach relies on statistical theory that has been developed over the years and is also limited to statistics for which theoretical results on the sampling distribution exist. These results are remarkably useful and applicable much of the time and under a surprisingly wide range of conditions."
   ]
  },
  {
   "cell_type": "markdown",
   "metadata": {},
   "source": [
    "Having calculated the 95% lower confidence interval using frequentist theory in the previous exercise, you would like to verify your calculations and check you get consistent results without making the assumptions required before. After all, the distribution of charges really was very non-normal."
   ]
  },
  {
   "cell_type": "markdown",
   "metadata": {},
   "source": [
    "__Q:__ Use bootstrap sampling to estimate the same 95% confidence interval lower limit as before."
   ]
  },
  {
   "cell_type": "markdown",
   "metadata": {},
   "source": [
    "__A:__"
   ]
  },
  {
   "cell_type": "code",
   "execution_count": 4,
   "metadata": {},
   "outputs": [
    {
     "data": {
      "text/plain": [
       "array([12724.4679217])"
      ]
     },
     "execution_count": 4,
     "metadata": {},
     "output_type": "execute_result"
    }
   ],
   "source": [
    "# Use bootstrap sampling to estimate the same 95% confidence interval lower limit on the mean hospital charge.\n",
    "np.random.seed(47)\n",
    "\n",
    "#Number of randomly drawn samples with replacement: N_rep\n",
    "N_rep = 10000\n",
    "\n",
    "#Creating an empty array of size N_rep to store the sampling means\n",
    "sample_means = np.empty(N_rep)\n",
    "\n",
    "#Writing a for loop to loop through N_rep drawings of random samples from the given medical charge data and then storing the \n",
    "#means of each randomly drawn sample in the array: sample_means\n",
    "for i in range(N_rep):\n",
    "    sample = np.random.choice(med_charges['charges'], len(med_charges['charges']))\n",
    "    sample_means[i] = np.mean(sample)\n",
    "    \n",
    "#Calculating the 95% confidence interval lower limit; using 5% since we are only concerned with the lower limit (0ne-tailed)\n",
    "np.percentile(sample_means, [5])"
   ]
  },
  {
   "cell_type": "markdown",
   "metadata": {},
   "source": [
    "If you performed 10000 replicates immediately after setting the random seed to 47, you should get the value 12724 here, which compares very well with the value 12725 obtained using the _t_-distribution confidence interval previously. It is a most pleasant result to see the predictions of classical frequentist theory match with results that are now possible through the number-crunching ability of computers."
   ]
  },
  {
   "cell_type": "markdown",
   "metadata": {},
   "source": [
    "Remember in the previous exercise set, we saw there are two ways of performing a _t_-test from a sample, depending on whether we can assume the groups have equal variance or not. We can actually easily test this using the bootstrap!"
   ]
  },
  {
   "cell_type": "markdown",
   "metadata": {},
   "source": [
    "__Q:__ Calculate the 95% confidence interval for the difference between the standard deviations of insurance and non-insurance claim charges (insured - non-insured). Calculate the differences over 10000 replicates. Plot the histogram of values and mark the locations of the percentiles. State the null and alternative hypothesis and comment on whether you would retain or reject the null hypothesis in this case and why."
   ]
  },
  {
   "cell_type": "markdown",
   "metadata": {},
   "source": [
    "__A:__ \n",
    "* __Null hypothesis H0: Assume that the two groups have equal standard deviations.__\n",
    "* __Alternate hypothesis Ha: The standard deviations of the two groups are not equal.__\n",
    "\n",
    "__We need to calculate the probability of getting the actual observed difference in stds of the two groups given the null hypothesis is true. Let's consider a significance level of 5% i.e. we reject the null hypothesis if pvalue is lower than 5%.__\n",
    "\n",
    "__Here the null hypothesis is defined as the two sample groups having the same standard deviation. So, let's assume that the two samples indeed are drawn from the same population and have the same standard deviations. That is, we can concatenate the two groups and then find a common std. Then rescale both the groups to have the same std and then take random samples from each group to check the difference in their stds.__"
   ]
  },
  {
   "cell_type": "code",
   "execution_count": 5,
   "metadata": {},
   "outputs": [],
   "source": [
    "## IGNORE THIS ENTIRE CODE BLOCK. TRIED TO SOLVE IT USING PERMUTING OF THE TWO SAMPLES; GIVES SIMILAR RESULT BUT THE SOLUTION \n",
    "#GIVEN BELOW MAKES MORE SENSE and permutation is more appropriately used for scenarios like A/B testing.\n",
    "\n",
    "# Defining the necessary functions \n",
    "\n",
    "\n",
    "#def permutation_sample(data1, data2):\n",
    "#    \"\"\"Generate a permutation sample from two data sets.\"\"\"\n",
    "#\n",
    "#    # Concatenate the data sets: data\n",
    "#    data = np.concatenate((data1, data2))\n",
    "#\n",
    "#    # Permute the concatenated array: permuted_data\n",
    "#    permuted_data = np.random.permutation(data)\n",
    "\n",
    "#    # Split the permuted array into two: perm_sample_1, perm_sample_2\n",
    "#    perm_sample_1 = permuted_data[:len(data1)]\n",
    "#    perm_sample_2 = permuted_data[len(data1):]\n",
    "\n",
    "#    return perm_sample_1, perm_sample_2\n",
    "\n",
    "#def std_diff(data1, data2):\n",
    "#    \"\"\"Calculate the difference in standard deviations of two samples data1 and data2\"\"\"\n",
    "#    \n",
    "#    difference_in_std = np.std(data1) - np.std(data2)\n",
    "#    return difference_in_std\n",
    "    \n",
    "#def bootstrap_std(data1, data2, func, size=1):\n",
    "#    \"\"\"Generate (size) number of sample statistics obtained by randomly permuting the datasets 1 and 2 and then calculating the \n",
    "#    bootstrap replicate parameter using the passed function func. For example, if mean of the two datasets are being compared\n",
    "#    then you can pass func as np.mean. func can also be a user defined function.\"\"\"\n",
    "    \n",
    "#    std_replicates = np.empty(size)\n",
    "#    for i in range(size):\n",
    "#        perm_data1, perm_data2 = permutation_sample(data1, data2)\n",
    "#        std_replicates[i] = func(perm_data1, perm_data2)\n",
    "#    return std_replicates\n",
    "        \n",
    "#Defining the with insurance and without insurance charges datasets\n",
    "#with_insurance = np.array(med_charges[med_charges['insuranceclaim']==1]['charges'])\n",
    "#without_insurance = np.array(med_charges[med_charges['insuranceclaim']==0]['charges'])\n",
    "\n",
    "#Defining the actual observed \n",
    "#obs_std_diff = np.std(with_insurance) - np.std(without_insurance)\n",
    "\n",
    "#std_replicates = bootstrap_std(with_insurance, without_insurance, std_diff, size=10000)\n",
    "\n",
    "#CI95 = np.percentile(std_replicates, [2.5, 97.5])\n",
    "#_ = plt.hist(std_replicates, normed= True, histtype= 'step', bins=19)\n",
    "#_ = plt.axvline(CI95[0], color='red', linewidth= 1)\n",
    "#_ = plt.axvline(CI95[1], color='red', linewidth= 1)\n",
    "#print('95% confidence interval: ', CI95)\n",
    "\n",
    "#pvalue = np.sum(std_replicates>=obs_std_diff)/len(std_replicates)\n",
    "#print('pvalue: ', pvalue)\n"
   ]
  },
  {
   "cell_type": "code",
   "execution_count": 6,
   "metadata": {},
   "outputs": [],
   "source": [
    "#Defining the with insurance and without insurance charges datasets\n",
    "with_insurance = np.array(med_charges[med_charges['insuranceclaim']==1]['charges'])\n",
    "without_insurance = np.array(med_charges[med_charges['insuranceclaim']==0]['charges'])\n",
    "\n",
    "#Defining the actual observed std\n",
    "obs_std_diff = np.std(with_insurance) - np.std(without_insurance)"
   ]
  },
  {
   "cell_type": "code",
   "execution_count": 7,
   "metadata": {},
   "outputs": [],
   "source": [
    "#Calculating the combined std of both the groups\n",
    "combined_std = np.std(np.concatenate((with_insurance, without_insurance)))\n",
    "\n",
    "#Rescaling both the datasets (with and without insurance) such that both end up having the same std\n",
    "with_ins_adj = with_insurance*combined_std/np.std(with_insurance)\n",
    "without_ins_adj = without_insurance*combined_std/np.std(without_insurance)\n",
    "\n",
    "#Creating an empty array to store the difference in stds of the random samples from both groups\n",
    "diff_in_std = np.empty(10000)\n",
    "\n",
    "#Collecting 10000 samples randomly from each adjusted datasets and then calculating the difference in std for each pair\n",
    "for i in range(10000):\n",
    "    sample1 = np.random.choice(with_ins_adj, len(with_ins_adj))\n",
    "    sample2 = np.random.choice(without_ins_adj, len(without_ins_adj))\n",
    "    diff_in_std[i] = np.std(sample1) - np.std(sample2)\n",
    "    "
   ]
  },
  {
   "cell_type": "code",
   "execution_count": 8,
   "metadata": {},
   "outputs": [
    {
     "name": "stdout",
     "output_type": "stream",
     "text": [
      "95% confidence interval:  [-1246.24063817  1241.97590914]\n",
      "pvalue:  0.0 for observed std difference of:  7596.256408655182\n"
     ]
    },
    {
     "name": "stderr",
     "output_type": "stream",
     "text": [
      "C:\\Users\\ppawar\\AppData\\Local\\Continuum\\anaconda3\\lib\\site-packages\\matplotlib\\axes\\_axes.py:6462: UserWarning: The 'normed' kwarg is deprecated, and has been replaced by the 'density' kwarg.\n",
      "  warnings.warn(\"The 'normed' kwarg is deprecated, and has been \"\n"
     ]
    },
    {
     "data": {
      "image/png": "[encoded data removed]",
      "text/plain": [
       "<Figure size 432x288 with 1 Axes>"
      ]
     },
     "metadata": {},
     "output_type": "display_data"
    }
   ],
   "source": [
    "#Calculating the 95% confidence interval\n",
    "CI95 = np.percentile(diff_in_std, [2.5, 97.5])\n",
    "\n",
    "#PLotting the sampling distribution of the difference in stds of the two groups\n",
    "_ = plt.hist(diff_in_std, normed= True, histtype= 'step')\n",
    "_ = plt.axvline(CI95[0], color='red', linewidth= 1)\n",
    "_ = plt.axvline(CI95[1], color='red', linewidth= 1)\n",
    "_ = plt.xlabel('difference in stds of the two groups')\n",
    "_ = plt.ylabel('probability')\n",
    "\n",
    "#Calculating the pvalue-> probability of getting a difference in stds as high as obs_std_diff or more extreme given H0 is true\n",
    "pvalue = np.sum(diff_in_std>=obs_std_diff)/len(diff_in_std)\n",
    "print('95% confidence interval: ', CI95)\n",
    "print('pvalue: ', pvalue, 'for observed std difference of: ',obs_std_diff )\n"
   ]
  },
  {
   "cell_type": "code",
   "execution_count": 9,
   "metadata": {},
   "outputs": [],
   "source": [
    "#Since we got a pvalue of 0 (i.e. very very small), we can confidently reject the null hypothesis and conclude that the \n",
    "#standard deviations of the two groups are indeed different from each other and the 95% confidence interval for that\n",
    "#difference is [-1236.35765498  1235.64846127]"
   ]
  },
  {
   "cell_type": "markdown",
   "metadata": {},
   "source": []
  },
  {
   "cell_type": "markdown",
   "metadata": {},
   "source": [
    "## Confidence interval and p-value"
   ]
  },
  {
   "cell_type": "markdown",
   "metadata": {},
   "source": [
    "The confidence interval above is often a useful quantity to estimate. If we wish to limit our expected probability of making a Type II error (where we wrongly reject the null hypothesis, and it is, instead, true) to $\\alpha$, the associated confidence interval is our estimate of the interval within which we expect the true population value to be found $100\\times(1 - \\alpha)$% of the time we do this test. In the above we performed bootstrap replicates to estimate the interval and reject the null hypothesis if this interval did not contain zero. You will sometimes see such an interval reported in the output of statistical functions.\n",
    "\n",
    "The partner of the confidence interval is the p-value. The p-value and the confidence interval are linked through our choice of $\\alpha$. The p-value tells us how likely it is, under the null hypothesis, to get an outcome at least as extreme as what was observed. If this fails to reach the level of our _pre-specified_ $\\alpha$, we decide the null hypothesis is sufficiently unlikely to be true and thus reject it. To calculate this p-value via the bootstrap, we have to put ourselves in a position where we are simulating the null hypothesis being true and then calculate the fraction of times we observe a result at least as extreme as that actually observed.\n",
    "\n",
    "Remember how, previously, you used the _t_-test to calculate the p-value for the observed difference between the means of insured and non-insured medical cases. We're now going to repeat this but using the bootstrap.\n",
    "\n",
    "__Q:__ Perform a bootstrapped hypothesis test at the 5% significance level ($\\alpha = 0.05$) to calculate the p-value of the observed difference between insurance and non-insurance charges, state your null and alternative hypotheses and whether you retain or reject the null hypothesis for the given significance level."
   ]
  },
  {
   "cell_type": "markdown",
   "metadata": {},
   "source": [
    "__A: Let's define our null and alternate hypotheses:\n",
    "1. __Null hypothesis H0: People with insurance are charged the same amount as the people without insurance. We assume that H0 is true and then calculate the p_value and check if it lies below or above our significance level. __\n",
    "2. __Alternative hypothesis: People with insurance are charged a different amount than the people with insurance.__"
   ]
  },
  {
   "cell_type": "markdown",
   "metadata": {},
   "source": []
  },
  {
   "cell_type": "code",
   "execution_count": 10,
   "metadata": {},
   "outputs": [],
   "source": [
    "#Defining the with insurance and without insurance charges datasets\n",
    "with_insurance = np.array(med_charges[med_charges['insuranceclaim']==1]['charges'])\n",
    "without_insurance = np.array(med_charges[med_charges['insuranceclaim']==0]['charges'])\n",
    "\n",
    "obs_mean_diff = np.mean(with_insurance) - np.mean(without_insurance)"
   ]
  },
  {
   "cell_type": "code",
   "execution_count": 11,
   "metadata": {},
   "outputs": [],
   "source": [
    "#Calculating the combined mean of both the groups\n",
    "combined_mean = np.mean(np.concatenate((with_insurance, without_insurance)))\n",
    "\n",
    "#Resizing both the datasets such that they have the same common combined_mean\n",
    "with_ins_adj1 = with_insurance - np.mean(with_insurance) + combined_mean\n",
    "without_ins_adj1 = without_insurance - np.mean(without_insurance) + combined_mean\n",
    "\n",
    "#Creating an empty to store the difference in means of the random samples from both groups\n",
    "diff_in_mean = np.empty(10000)\n",
    "\n",
    "#Collecting 10000 samples randomly from each adjusted datasets and then calculating the difference in mean for each pair\n",
    "for i in range(10000):\n",
    "    sample1 = np.random.choice(with_ins_adj1, len(with_ins_adj1))\n",
    "    sample2 = np.random.choice(without_ins_adj1, len(without_ins_adj1))\n",
    "    diff_in_mean[i] = np.mean(sample1) - np.mean(sample2)"
   ]
  },
  {
   "cell_type": "code",
   "execution_count": 12,
   "metadata": {},
   "outputs": [
    {
     "name": "stdout",
     "output_type": "stream",
     "text": [
      "95% confidence interval:  [-1107.21352941  1128.57747058]\n",
      "pvalue:  0.0 for observed difference in means of:  7602.506384231372\n"
     ]
    },
    {
     "name": "stderr",
     "output_type": "stream",
     "text": [
      "C:\\Users\\ppawar\\AppData\\Local\\Continuum\\anaconda3\\lib\\site-packages\\matplotlib\\axes\\_axes.py:6462: UserWarning: The 'normed' kwarg is deprecated, and has been replaced by the 'density' kwarg.\n",
      "  warnings.warn(\"The 'normed' kwarg is deprecated, and has been \"\n"
     ]
    },
    {
     "data": {
      "image/png": "[encoded data removed]",
      "text/plain": [
       "<Figure size 432x288 with 1 Axes>"
      ]
     },
     "metadata": {},
     "output_type": "display_data"
    }
   ],
   "source": [
    "#Calculating the 95% confidence interval\n",
    "CI95mean = np.percentile(diff_in_mean, [2.5, 97.5])\n",
    "\n",
    "#PLotting the sampling distribution of the difference in means of the two groups\n",
    "_ = plt.hist(diff_in_mean, normed= True, histtype= 'step', bins=19)\n",
    "_ = plt.axvline(CI95mean[0], color='red', linewidth= 1)\n",
    "_ = plt.axvline(CI95mean[1], color='red', linewidth= 1)\n",
    "_ = plt.xlabel('difference in means of the two groups')\n",
    "_ = plt.ylabel('probability')\n",
    "\n",
    "#Calculating the pvalue-> probability of getting a difference in means as high as obs_mean_diff or extreme given H0 is true\n",
    "pvalue_m = np.sum(diff_in_mean>=obs_mean_diff)/len(diff_in_mean)\n",
    "print('95% confidence interval: ', CI95mean)\n",
    "print('pvalue: ', pvalue_m, 'for observed difference in means of: ', obs_mean_diff )"
   ]
  },
  {
   "cell_type": "markdown",
   "metadata": {},
   "source": [
    "__Since the pvalue of getting a difference in means as high as the actual observed value from the two dataset samples is\n",
    "close to 0 (which is lower than our significance level of 0.05), we can reject the null hypothesis and confidently \n",
    "say that the charges for patients with insurance are indeed different than the charges for patients without insurance.__"
   ]
  },
  {
   "cell_type": "code",
   "execution_count": null,
   "metadata": {},
   "outputs": [],
   "source": []
  },
  {
   "cell_type": "code",
   "execution_count": null,
   "metadata": {},
   "outputs": [],
   "source": []
  },
  {
   "cell_type": "markdown",
   "metadata": {},
   "source": []
  },
  {
   "cell_type": "markdown",
   "metadata": {},
   "source": [
    "__Q:__ To put the above result in perspective, plot the histogram of your bootstrapped differences along with lines marking the locations of the observed difference. (Why would we plot more than one line, given that we only have one observed difference?)"
   ]
  },
  {
   "cell_type": "markdown",
   "metadata": {},
   "source": [
    "__A: We plot two lines because the difference could have been either positive or negative, so essentially this is a two tailed test and we need to see if the mean reaches the observed value on both sides or further.__"
   ]
  },
  {
   "cell_type": "code",
   "execution_count": 13,
   "metadata": {},
   "outputs": [
    {
     "name": "stderr",
     "output_type": "stream",
     "text": [
      "C:\\Users\\ppawar\\AppData\\Local\\Continuum\\anaconda3\\lib\\site-packages\\matplotlib\\axes\\_axes.py:6462: UserWarning: The 'normed' kwarg is deprecated, and has been replaced by the 'density' kwarg.\n",
      "  warnings.warn(\"The 'normed' kwarg is deprecated, and has been \"\n"
     ]
    },
    {
     "data": {
      "image/png": "[encoded data removed]",
      "text/plain": [
       "<Figure size 432x288 with 1 Axes>"
      ]
     },
     "metadata": {},
     "output_type": "display_data"
    }
   ],
   "source": [
    "#PLotting the sampling distribution of the difference in means of the two groups with two red lines of the actual observed\n",
    "# difference in the means\n",
    "_ = plt.hist(diff_in_mean, normed= True, histtype= 'step', bins=19)\n",
    "_ = plt.axvline(-obs_mean_diff, color='red', linewidth= 1)\n",
    "_ = plt.axvline(+obs_mean_diff, color='red', linewidth= 1)\n",
    "_ = plt.xlabel('difference in means of the two groups')\n",
    "_ = plt.ylabel('probability')"
   ]
  },
  {
   "cell_type": "markdown",
   "metadata": {},
   "source": []
  },
  {
   "cell_type": "markdown",
   "metadata": {},
   "source": [
    "__Q:__ Compare your p-value above with that obtained using the _t_-test function in the previous assignment. Do you think you would want to try to perform enough bootstrap replicates to observe a random difference as large as that we did observe?"
   ]
  },
  {
   "cell_type": "markdown",
   "metadata": {},
   "source": [
    "__A: The t value from the t-stat test was 4.461230231620717e-31 which is very close to 0, and this is what we observed above. We can increase the number of repplication of the samples, but as you can see from the above hist, the observed values are so extreme that we might get lucky and maybe there will be 1 or 2 observations falling that far from the mean, but still the pvalue will be close to 0, and definitely less than 0.05.__"
   ]
  },
  {
   "cell_type": "markdown",
   "metadata": {},
   "source": [
    "__Q:__ Remember the two variants of the _t_-test we performed in the previous assignment. Which one would you use now?"
   ]
  },
  {
   "cell_type": "markdown",
   "metadata": {},
   "source": [
    "__A: Since we found above that the standard deviations (and hence variances) of the two groups are indeed different from each other, we should use the scipy.stats.ttest_ind_from_stats function with equal_var=False.__"
   ]
  },
  {
   "cell_type": "markdown",
   "metadata": {},
   "source": [
    "__Q:__ If, instead of being asked whether the means of two groups were different, you were working with an ad-recommender team who wanted to release a new recommendation algorithm, and you were looking at click-through rate both for the current algorithm (call it A) and from trials of their new algorithm (call it B), would you perform a two-sided test as above? What would be your null and alternative hypotheses and what would be the real world consequence of rejecting the null hypothesis?"
   ]
  },
  {
   "cell_type": "markdown",
   "metadata": {},
   "source": [
    "__A: In this scenario, we will calculate the fractions of the clickthroughs for both A and B and check if the fraction has increased significantly by switching from A to B. \n",
    "To perform this test, we can define the following hypotheses:__\n",
    "* __H0: There was no difference in clickthroughs by switching from A to B.__\n",
    "* __Ha: The number of clickthroughs by switching to B increased as compared to A. i.e. the fraction of clickthroughs for B minus the fraction of clickthroughs for A will be positive.__ \n",
    "\n",
    "__Since we are only concerned if the clickthroughs increased by switching we'll perform a one-tailed test.__\n",
    "\n",
    "__And the real world consequence of rejecting the null hypothesis can involve unnecessary costs and manual hours involved in scaling and deploying the B algorithm.__"
   ]
  },
  {
   "cell_type": "markdown",
   "metadata": {},
   "source": [
    "# Learning outcomes\n",
    "\n",
    "You've previously applied frequentist methods to calculate confidence intervals, p-values, and perform hypothesis tests. Frequentist methods use theoretical results to calculate what we expect would happen if experiments were to be run again and again and again. Now you've seen how you can do the same things using the bootstrap approach, which does not rely on such theory, and attendant assumptions, but instead literally does run experiments again and again and again.\n",
    "\n",
    "In these exercises, you have\n",
    "* calculated the same confidence interval lower limit as you did previously\n",
    "* tested the assumption that the variances of the two groups (insured vs. non-insured) were equal - something a bit harder to do using the frequentist method because of the nature of the sampling distribution for variance\n",
    "* calculated the p-value for the difference between the means of the two groups and compared with the result obtained using the previous frequentist approach\n",
    "\n",
    "You are now well equipped to apply the bootstrap approach to a wide variety of problems. Just think about what conditions you wish to recreate in your simulated reruns."
   ]
  }
 ],
 "metadata": {
  "kernelspec": {
   "display_name": "Python 3",
   "language": "python",
   "name": "python3"
  },
  "language_info": {
   "codemirror_mode": {
    "name": "ipython",
    "version": 3
   },
   "file_extension": ".py",
   "mimetype": "text/x-python",
   "name": "python",
   "nbconvert_exporter": "python",
   "pygments_lexer": "ipython3",
   "version": "3.6.5"
  }
 },
 "nbformat": 4,
 "nbformat_minor": 2
}
